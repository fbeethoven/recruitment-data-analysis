{
 "cells": [
  {
   "cell_type": "markdown",
   "id": "5cfbfc1c",
   "metadata": {},
   "source": [
    "# recrutiment-data-analysis\n",
    "Imagine that you run a candy factory, in which you manufacture various types of candy, chocolate bars and marshmallows.\n",
    "You have very advanced machines that can manufacture multiple types of sweetness, but they may sometimes make mistakes (e.g. add chocolate to the marshmallows) and you’d like to detect this kind of mistakes before you ship the goods to stores.\n",
    "\n",
    "Luckily, the machines measure some parameters of the produced sweetness, such as volume and weight of each produced item along with the machine id and timestamp.\n",
    "\n",
    "Your goal is to identify outliers in that data (so that you can quickly detect that a machine is not functioning properly)\n",
    "\n",
    "Directions:\n",
    " - Use pandas to load and clean the data (there may be some incorrect readings in the data set)\n",
    " - visualise the data (you may use matplotlib)\n",
    " - cluster the data and analyse distances of data points from the cluster centroids to detect outliers. You do not need to implement clustering on your own, find an implementation in sklearn.\n",
    "\n",
    "\n",
    "Expected completion time: ca 1.5 hours"
   ]
  },
  {
   "cell_type": "code",
   "execution_count": 3,
   "id": "08d01ce7",
   "metadata": {},
   "outputs": [],
   "source": [
    "import pandas as pd\n",
    "import numpy as np\n",
    "\n",
    "df = pd.read_csv('dataset.csv')"
   ]
  },
  {
   "cell_type": "code",
   "execution_count": 4,
   "id": "ffe6e435",
   "metadata": {},
   "outputs": [],
   "source": [
    "%matplotlib inline\n",
    "import matplotlib.pyplot as plt\n",
    "import seaborn as sns; sns.set()"
   ]
  },
  {
   "cell_type": "code",
   "execution_count": 5,
   "id": "3088140d",
   "metadata": {},
   "outputs": [
    {
     "data": {
      "text/html": [
       "<div>\n",
       "<style scoped>\n",
       "    .dataframe tbody tr th:only-of-type {\n",
       "        vertical-align: middle;\n",
       "    }\n",
       "\n",
       "    .dataframe tbody tr th {\n",
       "        vertical-align: top;\n",
       "    }\n",
       "\n",
       "    .dataframe thead th {\n",
       "        text-align: right;\n",
       "    }\n",
       "</style>\n",
       "<table border=\"1\" class=\"dataframe\">\n",
       "  <thead>\n",
       "    <tr style=\"text-align: right;\">\n",
       "      <th></th>\n",
       "      <th>machine_id</th>\n",
       "      <th>timestamp</th>\n",
       "      <th>volume</th>\n",
       "      <th>weight</th>\n",
       "    </tr>\n",
       "  </thead>\n",
       "  <tbody>\n",
       "    <tr>\n",
       "      <th>0</th>\n",
       "      <td>machine_2</td>\n",
       "      <td>1631751538</td>\n",
       "      <td>7.114575</td>\n",
       "      <td>13.093726401951036</td>\n",
       "    </tr>\n",
       "    <tr>\n",
       "      <th>1</th>\n",
       "      <td>machine_1</td>\n",
       "      <td>1631701818</td>\n",
       "      <td>45.841198</td>\n",
       "      <td>13.127754886435934</td>\n",
       "    </tr>\n",
       "    <tr>\n",
       "      <th>2</th>\n",
       "      <td>machine_2</td>\n",
       "      <td>1631751538</td>\n",
       "      <td>7.785276</td>\n",
       "      <td>11.992074845293077</td>\n",
       "    </tr>\n",
       "    <tr>\n",
       "      <th>3</th>\n",
       "      <td>machine_1</td>\n",
       "      <td>1631701818</td>\n",
       "      <td>45.491211</td>\n",
       "      <td>17.278758190021364</td>\n",
       "    </tr>\n",
       "    <tr>\n",
       "      <th>4</th>\n",
       "      <td>machine_2</td>\n",
       "      <td>1631701818</td>\n",
       "      <td>45.262785</td>\n",
       "      <td>15.934521964064135</td>\n",
       "    </tr>\n",
       "  </tbody>\n",
       "</table>\n",
       "</div>"
      ],
      "text/plain": [
       "  machine_id   timestamp     volume              weight\n",
       "0  machine_2  1631751538   7.114575  13.093726401951036\n",
       "1  machine_1  1631701818  45.841198  13.127754886435934\n",
       "2  machine_2  1631751538   7.785276  11.992074845293077\n",
       "3  machine_1  1631701818  45.491211  17.278758190021364\n",
       "4  machine_2  1631701818  45.262785  15.934521964064135"
      ]
     },
     "execution_count": 5,
     "metadata": {},
     "output_type": "execute_result"
    }
   ],
   "source": [
    "df.head()"
   ]
  },
  {
   "cell_type": "code",
   "execution_count": 7,
   "id": "4b0fbafc",
   "metadata": {},
   "outputs": [
    {
     "data": {
      "text/plain": [
       "array(['machine_2', 'machine_1'], dtype=object)"
      ]
     },
     "execution_count": 7,
     "metadata": {},
     "output_type": "execute_result"
    }
   ],
   "source": [
    "df.machine_id.unique()"
   ]
  },
  {
   "cell_type": "code",
   "execution_count": 8,
   "id": "16cf149c",
   "metadata": {},
   "outputs": [
    {
     "data": {
      "text/plain": [
       "array([1631751538, 1631701818, 1631741862, 1631703173, 1631746425,\n",
       "       1631704175, 1631702173, 1631744425, 1631721815])"
      ]
     },
     "execution_count": 8,
     "metadata": {},
     "output_type": "execute_result"
    }
   ],
   "source": [
    "df.timestamp.unique()"
   ]
  },
  {
   "cell_type": "code",
   "execution_count": 9,
   "id": "2fa943ba",
   "metadata": {},
   "outputs": [
    {
     "data": {
      "text/plain": [
       "(140, 4)"
      ]
     },
     "execution_count": 9,
     "metadata": {},
     "output_type": "execute_result"
    }
   ],
   "source": [
    "df.shape"
   ]
  },
  {
   "cell_type": "code",
   "execution_count": 12,
   "id": "b669898e",
   "metadata": {},
   "outputs": [
    {
     "data": {
      "text/plain": [
       "machine_id     object\n",
       "timestamp       int64\n",
       "volume        float64\n",
       "weight         object\n",
       "dtype: object"
      ]
     },
     "execution_count": 12,
     "metadata": {},
     "output_type": "execute_result"
    }
   ],
   "source": [
    "df.dtypes"
   ]
  },
  {
   "cell_type": "markdown",
   "id": "0b2eb464",
   "metadata": {},
   "source": [
    "**Frist Thoughts:** We have 140 rows of datapoints. We know that we have two machines, and the data types for columns _weights_ and _timestamp_ need to be adjusted. Next we will look for data errors. And try to find out differences based on machine, and time."
   ]
  },
  {
   "cell_type": "code",
   "execution_count": 13,
   "id": "76a2c53f",
   "metadata": {},
   "outputs": [],
   "source": [
    "df.timestamp = pd.to_datetime(df.timestamp, unit='s')"
   ]
  },
  {
   "cell_type": "code",
   "execution_count": 14,
   "id": "de584e60",
   "metadata": {},
   "outputs": [
    {
     "data": {
      "text/html": [
       "<div>\n",
       "<style scoped>\n",
       "    .dataframe tbody tr th:only-of-type {\n",
       "        vertical-align: middle;\n",
       "    }\n",
       "\n",
       "    .dataframe tbody tr th {\n",
       "        vertical-align: top;\n",
       "    }\n",
       "\n",
       "    .dataframe thead th {\n",
       "        text-align: right;\n",
       "    }\n",
       "</style>\n",
       "<table border=\"1\" class=\"dataframe\">\n",
       "  <thead>\n",
       "    <tr style=\"text-align: right;\">\n",
       "      <th></th>\n",
       "      <th>machine_id</th>\n",
       "      <th>timestamp</th>\n",
       "      <th>volume</th>\n",
       "      <th>weight</th>\n",
       "    </tr>\n",
       "  </thead>\n",
       "  <tbody>\n",
       "    <tr>\n",
       "      <th>0</th>\n",
       "      <td>machine_2</td>\n",
       "      <td>2021-09-16 00:18:58</td>\n",
       "      <td>7.114575</td>\n",
       "      <td>13.093726401951036</td>\n",
       "    </tr>\n",
       "    <tr>\n",
       "      <th>1</th>\n",
       "      <td>machine_1</td>\n",
       "      <td>2021-09-15 10:30:18</td>\n",
       "      <td>45.841198</td>\n",
       "      <td>13.127754886435934</td>\n",
       "    </tr>\n",
       "    <tr>\n",
       "      <th>2</th>\n",
       "      <td>machine_2</td>\n",
       "      <td>2021-09-16 00:18:58</td>\n",
       "      <td>7.785276</td>\n",
       "      <td>11.992074845293077</td>\n",
       "    </tr>\n",
       "    <tr>\n",
       "      <th>3</th>\n",
       "      <td>machine_1</td>\n",
       "      <td>2021-09-15 10:30:18</td>\n",
       "      <td>45.491211</td>\n",
       "      <td>17.278758190021364</td>\n",
       "    </tr>\n",
       "    <tr>\n",
       "      <th>4</th>\n",
       "      <td>machine_2</td>\n",
       "      <td>2021-09-15 10:30:18</td>\n",
       "      <td>45.262785</td>\n",
       "      <td>15.934521964064135</td>\n",
       "    </tr>\n",
       "  </tbody>\n",
       "</table>\n",
       "</div>"
      ],
      "text/plain": [
       "  machine_id           timestamp     volume              weight\n",
       "0  machine_2 2021-09-16 00:18:58   7.114575  13.093726401951036\n",
       "1  machine_1 2021-09-15 10:30:18  45.841198  13.127754886435934\n",
       "2  machine_2 2021-09-16 00:18:58   7.785276  11.992074845293077\n",
       "3  machine_1 2021-09-15 10:30:18  45.491211  17.278758190021364\n",
       "4  machine_2 2021-09-15 10:30:18  45.262785  15.934521964064135"
      ]
     },
     "execution_count": 14,
     "metadata": {},
     "output_type": "execute_result"
    }
   ],
   "source": [
    "df.head()"
   ]
  },
  {
   "cell_type": "code",
   "execution_count": 15,
   "id": "1caa1c10",
   "metadata": {},
   "outputs": [
    {
     "data": {
      "text/plain": [
       "array([16, 15])"
      ]
     },
     "execution_count": 15,
     "metadata": {},
     "output_type": "execute_result"
    }
   ],
   "source": [
    "df.timestamp.dt.day.unique()"
   ]
  },
  {
   "cell_type": "code",
   "execution_count": 17,
   "id": "96810362",
   "metadata": {},
   "outputs": [
    {
     "data": {
      "text/plain": [
       "(103, 4)"
      ]
     },
     "execution_count": 17,
     "metadata": {},
     "output_type": "execute_result"
    }
   ],
   "source": [
    "df[df.timestamp.dt.day == 15 ].shape"
   ]
  },
  {
   "cell_type": "code",
   "execution_count": 18,
   "id": "fe670dda",
   "metadata": {},
   "outputs": [
    {
     "data": {
      "text/plain": [
       "(37, 4)"
      ]
     },
     "execution_count": 18,
     "metadata": {},
     "output_type": "execute_result"
    }
   ],
   "source": [
    "df[ df.timestamp.dt.day == 16 ].shape"
   ]
  },
  {
   "cell_type": "markdown",
   "id": "c0ffc260",
   "metadata": {},
   "source": [
    "**NOTE**: We can use September 15 to perform our cluster analysis and see what this tells us about September 16."
   ]
  },
  {
   "cell_type": "code",
   "execution_count": 19,
   "id": "c90655d6",
   "metadata": {},
   "outputs": [
    {
     "ename": "ValueError",
     "evalue": "could not convert string to float: 'measurement_error'",
     "output_type": "error",
     "traceback": [
      "\u001b[0;31m---------------------------------------------------------------------------\u001b[0m",
      "\u001b[0;31mValueError\u001b[0m                                Traceback (most recent call last)",
      "\u001b[0;32m<ipython-input-19-bccffdcbcd29>\u001b[0m in \u001b[0;36m<module>\u001b[0;34m\u001b[0m\n\u001b[0;32m----> 1\u001b[0;31m \u001b[0mdf\u001b[0m\u001b[0;34m[\u001b[0m\u001b[0;34m'weight'\u001b[0m\u001b[0;34m]\u001b[0m \u001b[0;34m=\u001b[0m \u001b[0mdf\u001b[0m\u001b[0;34m[\u001b[0m\u001b[0;34m'weight'\u001b[0m\u001b[0;34m]\u001b[0m\u001b[0;34m.\u001b[0m\u001b[0mastype\u001b[0m\u001b[0;34m(\u001b[0m\u001b[0mfloat\u001b[0m\u001b[0;34m)\u001b[0m\u001b[0;34m\u001b[0m\u001b[0;34m\u001b[0m\u001b[0m\n\u001b[0m",
      "\u001b[0;32m~/.local/lib/python3.6/site-packages/pandas/core/generic.py\u001b[0m in \u001b[0;36mastype\u001b[0;34m(self, dtype, copy, errors)\u001b[0m\n\u001b[1;32m   5546\u001b[0m         \u001b[0;32melse\u001b[0m\u001b[0;34m:\u001b[0m\u001b[0;34m\u001b[0m\u001b[0;34m\u001b[0m\u001b[0m\n\u001b[1;32m   5547\u001b[0m             \u001b[0;31m# else, only a single dtype is given\u001b[0m\u001b[0;34m\u001b[0m\u001b[0;34m\u001b[0m\u001b[0;34m\u001b[0m\u001b[0m\n\u001b[0;32m-> 5548\u001b[0;31m             \u001b[0mnew_data\u001b[0m \u001b[0;34m=\u001b[0m \u001b[0mself\u001b[0m\u001b[0;34m.\u001b[0m\u001b[0m_mgr\u001b[0m\u001b[0;34m.\u001b[0m\u001b[0mastype\u001b[0m\u001b[0;34m(\u001b[0m\u001b[0mdtype\u001b[0m\u001b[0;34m=\u001b[0m\u001b[0mdtype\u001b[0m\u001b[0;34m,\u001b[0m \u001b[0mcopy\u001b[0m\u001b[0;34m=\u001b[0m\u001b[0mcopy\u001b[0m\u001b[0;34m,\u001b[0m \u001b[0merrors\u001b[0m\u001b[0;34m=\u001b[0m\u001b[0merrors\u001b[0m\u001b[0;34m,\u001b[0m\u001b[0;34m)\u001b[0m\u001b[0;34m\u001b[0m\u001b[0;34m\u001b[0m\u001b[0m\n\u001b[0m\u001b[1;32m   5549\u001b[0m             \u001b[0;32mreturn\u001b[0m \u001b[0mself\u001b[0m\u001b[0;34m.\u001b[0m\u001b[0m_constructor\u001b[0m\u001b[0;34m(\u001b[0m\u001b[0mnew_data\u001b[0m\u001b[0;34m)\u001b[0m\u001b[0;34m.\u001b[0m\u001b[0m__finalize__\u001b[0m\u001b[0;34m(\u001b[0m\u001b[0mself\u001b[0m\u001b[0;34m,\u001b[0m \u001b[0mmethod\u001b[0m\u001b[0;34m=\u001b[0m\u001b[0;34m\"astype\"\u001b[0m\u001b[0;34m)\u001b[0m\u001b[0;34m\u001b[0m\u001b[0;34m\u001b[0m\u001b[0m\n\u001b[1;32m   5550\u001b[0m \u001b[0;34m\u001b[0m\u001b[0m\n",
      "\u001b[0;32m~/.local/lib/python3.6/site-packages/pandas/core/internals/managers.py\u001b[0m in \u001b[0;36mastype\u001b[0;34m(self, dtype, copy, errors)\u001b[0m\n\u001b[1;32m    602\u001b[0m         \u001b[0mself\u001b[0m\u001b[0;34m,\u001b[0m \u001b[0mdtype\u001b[0m\u001b[0;34m,\u001b[0m \u001b[0mcopy\u001b[0m\u001b[0;34m:\u001b[0m \u001b[0mbool\u001b[0m \u001b[0;34m=\u001b[0m \u001b[0;32mFalse\u001b[0m\u001b[0;34m,\u001b[0m \u001b[0merrors\u001b[0m\u001b[0;34m:\u001b[0m \u001b[0mstr\u001b[0m \u001b[0;34m=\u001b[0m \u001b[0;34m\"raise\"\u001b[0m\u001b[0;34m\u001b[0m\u001b[0;34m\u001b[0m\u001b[0m\n\u001b[1;32m    603\u001b[0m     ) -> \"BlockManager\":\n\u001b[0;32m--> 604\u001b[0;31m         \u001b[0;32mreturn\u001b[0m \u001b[0mself\u001b[0m\u001b[0;34m.\u001b[0m\u001b[0mapply\u001b[0m\u001b[0;34m(\u001b[0m\u001b[0;34m\"astype\"\u001b[0m\u001b[0;34m,\u001b[0m \u001b[0mdtype\u001b[0m\u001b[0;34m=\u001b[0m\u001b[0mdtype\u001b[0m\u001b[0;34m,\u001b[0m \u001b[0mcopy\u001b[0m\u001b[0;34m=\u001b[0m\u001b[0mcopy\u001b[0m\u001b[0;34m,\u001b[0m \u001b[0merrors\u001b[0m\u001b[0;34m=\u001b[0m\u001b[0merrors\u001b[0m\u001b[0;34m)\u001b[0m\u001b[0;34m\u001b[0m\u001b[0;34m\u001b[0m\u001b[0m\n\u001b[0m\u001b[1;32m    605\u001b[0m \u001b[0;34m\u001b[0m\u001b[0m\n\u001b[1;32m    606\u001b[0m     def convert(\n",
      "\u001b[0;32m~/.local/lib/python3.6/site-packages/pandas/core/internals/managers.py\u001b[0m in \u001b[0;36mapply\u001b[0;34m(self, f, align_keys, **kwargs)\u001b[0m\n\u001b[1;32m    407\u001b[0m                 \u001b[0mapplied\u001b[0m \u001b[0;34m=\u001b[0m \u001b[0mb\u001b[0m\u001b[0;34m.\u001b[0m\u001b[0mapply\u001b[0m\u001b[0;34m(\u001b[0m\u001b[0mf\u001b[0m\u001b[0;34m,\u001b[0m \u001b[0;34m**\u001b[0m\u001b[0mkwargs\u001b[0m\u001b[0;34m)\u001b[0m\u001b[0;34m\u001b[0m\u001b[0;34m\u001b[0m\u001b[0m\n\u001b[1;32m    408\u001b[0m             \u001b[0;32melse\u001b[0m\u001b[0;34m:\u001b[0m\u001b[0;34m\u001b[0m\u001b[0;34m\u001b[0m\u001b[0m\n\u001b[0;32m--> 409\u001b[0;31m                 \u001b[0mapplied\u001b[0m \u001b[0;34m=\u001b[0m \u001b[0mgetattr\u001b[0m\u001b[0;34m(\u001b[0m\u001b[0mb\u001b[0m\u001b[0;34m,\u001b[0m \u001b[0mf\u001b[0m\u001b[0;34m)\u001b[0m\u001b[0;34m(\u001b[0m\u001b[0;34m**\u001b[0m\u001b[0mkwargs\u001b[0m\u001b[0;34m)\u001b[0m\u001b[0;34m\u001b[0m\u001b[0;34m\u001b[0m\u001b[0m\n\u001b[0m\u001b[1;32m    410\u001b[0m             \u001b[0mresult_blocks\u001b[0m \u001b[0;34m=\u001b[0m \u001b[0m_extend_blocks\u001b[0m\u001b[0;34m(\u001b[0m\u001b[0mapplied\u001b[0m\u001b[0;34m,\u001b[0m \u001b[0mresult_blocks\u001b[0m\u001b[0;34m)\u001b[0m\u001b[0;34m\u001b[0m\u001b[0;34m\u001b[0m\u001b[0m\n\u001b[1;32m    411\u001b[0m \u001b[0;34m\u001b[0m\u001b[0m\n",
      "\u001b[0;32m~/.local/lib/python3.6/site-packages/pandas/core/internals/blocks.py\u001b[0m in \u001b[0;36mastype\u001b[0;34m(self, dtype, copy, errors)\u001b[0m\n\u001b[1;32m    593\u001b[0m             \u001b[0mvals1d\u001b[0m \u001b[0;34m=\u001b[0m \u001b[0mvalues\u001b[0m\u001b[0;34m.\u001b[0m\u001b[0mravel\u001b[0m\u001b[0;34m(\u001b[0m\u001b[0;34m)\u001b[0m\u001b[0;34m\u001b[0m\u001b[0;34m\u001b[0m\u001b[0m\n\u001b[1;32m    594\u001b[0m             \u001b[0;32mtry\u001b[0m\u001b[0;34m:\u001b[0m\u001b[0;34m\u001b[0m\u001b[0;34m\u001b[0m\u001b[0m\n\u001b[0;32m--> 595\u001b[0;31m                 \u001b[0mvalues\u001b[0m \u001b[0;34m=\u001b[0m \u001b[0mastype_nansafe\u001b[0m\u001b[0;34m(\u001b[0m\u001b[0mvals1d\u001b[0m\u001b[0;34m,\u001b[0m \u001b[0mdtype\u001b[0m\u001b[0;34m,\u001b[0m \u001b[0mcopy\u001b[0m\u001b[0;34m=\u001b[0m\u001b[0;32mTrue\u001b[0m\u001b[0;34m)\u001b[0m\u001b[0;34m\u001b[0m\u001b[0;34m\u001b[0m\u001b[0m\n\u001b[0m\u001b[1;32m    596\u001b[0m             \u001b[0;32mexcept\u001b[0m \u001b[0;34m(\u001b[0m\u001b[0mValueError\u001b[0m\u001b[0;34m,\u001b[0m \u001b[0mTypeError\u001b[0m\u001b[0;34m)\u001b[0m\u001b[0;34m:\u001b[0m\u001b[0;34m\u001b[0m\u001b[0;34m\u001b[0m\u001b[0m\n\u001b[1;32m    597\u001b[0m                 \u001b[0;31m# e.g. astype_nansafe can fail on object-dtype of strings\u001b[0m\u001b[0;34m\u001b[0m\u001b[0;34m\u001b[0m\u001b[0;34m\u001b[0m\u001b[0m\n",
      "\u001b[0;32m~/.local/lib/python3.6/site-packages/pandas/core/dtypes/cast.py\u001b[0m in \u001b[0;36mastype_nansafe\u001b[0;34m(arr, dtype, copy, skipna)\u001b[0m\n\u001b[1;32m    995\u001b[0m     \u001b[0;32mif\u001b[0m \u001b[0mcopy\u001b[0m \u001b[0;32mor\u001b[0m \u001b[0mis_object_dtype\u001b[0m\u001b[0;34m(\u001b[0m\u001b[0marr\u001b[0m\u001b[0;34m)\u001b[0m \u001b[0;32mor\u001b[0m \u001b[0mis_object_dtype\u001b[0m\u001b[0;34m(\u001b[0m\u001b[0mdtype\u001b[0m\u001b[0;34m)\u001b[0m\u001b[0;34m:\u001b[0m\u001b[0;34m\u001b[0m\u001b[0;34m\u001b[0m\u001b[0m\n\u001b[1;32m    996\u001b[0m         \u001b[0;31m# Explicit copy, or required since NumPy can't view from / to object.\u001b[0m\u001b[0;34m\u001b[0m\u001b[0;34m\u001b[0m\u001b[0;34m\u001b[0m\u001b[0m\n\u001b[0;32m--> 997\u001b[0;31m         \u001b[0;32mreturn\u001b[0m \u001b[0marr\u001b[0m\u001b[0;34m.\u001b[0m\u001b[0mastype\u001b[0m\u001b[0;34m(\u001b[0m\u001b[0mdtype\u001b[0m\u001b[0;34m,\u001b[0m \u001b[0mcopy\u001b[0m\u001b[0;34m=\u001b[0m\u001b[0;32mTrue\u001b[0m\u001b[0;34m)\u001b[0m\u001b[0;34m\u001b[0m\u001b[0;34m\u001b[0m\u001b[0m\n\u001b[0m\u001b[1;32m    998\u001b[0m \u001b[0;34m\u001b[0m\u001b[0m\n\u001b[1;32m    999\u001b[0m     \u001b[0;32mreturn\u001b[0m \u001b[0marr\u001b[0m\u001b[0;34m.\u001b[0m\u001b[0mview\u001b[0m\u001b[0;34m(\u001b[0m\u001b[0mdtype\u001b[0m\u001b[0;34m)\u001b[0m\u001b[0;34m\u001b[0m\u001b[0;34m\u001b[0m\u001b[0m\n",
      "\u001b[0;31mValueError\u001b[0m: could not convert string to float: 'measurement_error'"
     ]
    }
   ],
   "source": [
    "df['weight'] = df['weight'].astype(float)"
   ]
  },
  {
   "cell_type": "code",
   "execution_count": 20,
   "id": "dcb1f6e2",
   "metadata": {},
   "outputs": [],
   "source": [
    "df['weight'] = df['weight'].replace('measurement_error', np.nan)\n",
    "df['weight'] = df['weight'].astype(float)\n",
    "df.dropna(inplace=True)"
   ]
  },
  {
   "cell_type": "code",
   "execution_count": 21,
   "id": "f610b421",
   "metadata": {},
   "outputs": [
    {
     "data": {
      "text/plain": [
       "138"
      ]
     },
     "execution_count": 21,
     "metadata": {},
     "output_type": "execute_result"
    }
   ],
   "source": [
    "len(df)"
   ]
  },
  {
   "cell_type": "code",
   "execution_count": 22,
   "id": "85e37a11",
   "metadata": {},
   "outputs": [
    {
     "name": "stdout",
     "output_type": "stream",
     "text": [
      "<class 'pandas.core.frame.DataFrame'>\n",
      "Int64Index: 138 entries, 0 to 139\n",
      "Data columns (total 4 columns):\n",
      " #   Column      Non-Null Count  Dtype         \n",
      "---  ------      --------------  -----         \n",
      " 0   machine_id  138 non-null    object        \n",
      " 1   timestamp   138 non-null    datetime64[ns]\n",
      " 2   volume      138 non-null    float64       \n",
      " 3   weight      138 non-null    float64       \n",
      "dtypes: datetime64[ns](1), float64(2), object(1)\n",
      "memory usage: 5.4+ KB\n"
     ]
    }
   ],
   "source": [
    "df.info()"
   ]
  },
  {
   "cell_type": "markdown",
   "id": "041d1c83",
   "metadata": {},
   "source": [
    "**We start preprocessing**\n",
    "\n",
    "We are going to make a copy of our dataframe and scale the data before looking for clusters"
   ]
  },
  {
   "cell_type": "code",
   "execution_count": 23,
   "id": "4328bc13",
   "metadata": {},
   "outputs": [],
   "source": [
    "from sklearn.preprocessing import MinMaxScaler\n",
    "\n",
    "X = df.copy()\n",
    "scaler = MinMaxScaler()\n",
    "X['volume'] = scaler.fit_transform(X[['volume']])\n",
    "X['weight'] = scaler.fit_transform(X[['weight']])"
   ]
  },
  {
   "cell_type": "code",
   "execution_count": 24,
   "id": "82d7fdd1",
   "metadata": {},
   "outputs": [
    {
     "data": {
      "text/html": [
       "<div>\n",
       "<style scoped>\n",
       "    .dataframe tbody tr th:only-of-type {\n",
       "        vertical-align: middle;\n",
       "    }\n",
       "\n",
       "    .dataframe tbody tr th {\n",
       "        vertical-align: top;\n",
       "    }\n",
       "\n",
       "    .dataframe thead th {\n",
       "        text-align: right;\n",
       "    }\n",
       "</style>\n",
       "<table border=\"1\" class=\"dataframe\">\n",
       "  <thead>\n",
       "    <tr style=\"text-align: right;\">\n",
       "      <th></th>\n",
       "      <th>machine_id</th>\n",
       "      <th>timestamp</th>\n",
       "      <th>volume</th>\n",
       "      <th>weight</th>\n",
       "    </tr>\n",
       "  </thead>\n",
       "  <tbody>\n",
       "    <tr>\n",
       "      <th>0</th>\n",
       "      <td>machine_2</td>\n",
       "      <td>2021-09-16 00:18:58</td>\n",
       "      <td>0.196926</td>\n",
       "      <td>0.086043</td>\n",
       "    </tr>\n",
       "    <tr>\n",
       "      <th>1</th>\n",
       "      <td>machine_1</td>\n",
       "      <td>2021-09-15 10:30:18</td>\n",
       "      <td>0.642527</td>\n",
       "      <td>0.086324</td>\n",
       "    </tr>\n",
       "    <tr>\n",
       "      <th>2</th>\n",
       "      <td>machine_2</td>\n",
       "      <td>2021-09-16 00:18:58</td>\n",
       "      <td>0.204643</td>\n",
       "      <td>0.076929</td>\n",
       "    </tr>\n",
       "    <tr>\n",
       "      <th>3</th>\n",
       "      <td>machine_1</td>\n",
       "      <td>2021-09-15 10:30:18</td>\n",
       "      <td>0.638499</td>\n",
       "      <td>0.120665</td>\n",
       "    </tr>\n",
       "    <tr>\n",
       "      <th>4</th>\n",
       "      <td>machine_2</td>\n",
       "      <td>2021-09-15 10:30:18</td>\n",
       "      <td>0.635871</td>\n",
       "      <td>0.109545</td>\n",
       "    </tr>\n",
       "    <tr>\n",
       "      <th>...</th>\n",
       "      <td>...</td>\n",
       "      <td>...</td>\n",
       "      <td>...</td>\n",
       "      <td>...</td>\n",
       "    </tr>\n",
       "    <tr>\n",
       "      <th>135</th>\n",
       "      <td>machine_2</td>\n",
       "      <td>2021-09-15 10:30:18</td>\n",
       "      <td>0.612724</td>\n",
       "      <td>0.108221</td>\n",
       "    </tr>\n",
       "    <tr>\n",
       "      <th>136</th>\n",
       "      <td>machine_2</td>\n",
       "      <td>2021-09-15 10:30:18</td>\n",
       "      <td>0.651099</td>\n",
       "      <td>0.125411</td>\n",
       "    </tr>\n",
       "    <tr>\n",
       "      <th>137</th>\n",
       "      <td>machine_1</td>\n",
       "      <td>2021-09-15 10:30:18</td>\n",
       "      <td>0.644774</td>\n",
       "      <td>0.098508</td>\n",
       "    </tr>\n",
       "    <tr>\n",
       "      <th>138</th>\n",
       "      <td>machine_2</td>\n",
       "      <td>2021-09-15 21:37:42</td>\n",
       "      <td>0.992717</td>\n",
       "      <td>0.973737</td>\n",
       "    </tr>\n",
       "    <tr>\n",
       "      <th>139</th>\n",
       "      <td>machine_1</td>\n",
       "      <td>2021-09-15 10:30:18</td>\n",
       "      <td>0.645383</td>\n",
       "      <td>0.085237</td>\n",
       "    </tr>\n",
       "  </tbody>\n",
       "</table>\n",
       "<p>138 rows × 4 columns</p>\n",
       "</div>"
      ],
      "text/plain": [
       "    machine_id           timestamp    volume    weight\n",
       "0    machine_2 2021-09-16 00:18:58  0.196926  0.086043\n",
       "1    machine_1 2021-09-15 10:30:18  0.642527  0.086324\n",
       "2    machine_2 2021-09-16 00:18:58  0.204643  0.076929\n",
       "3    machine_1 2021-09-15 10:30:18  0.638499  0.120665\n",
       "4    machine_2 2021-09-15 10:30:18  0.635871  0.109545\n",
       "..         ...                 ...       ...       ...\n",
       "135  machine_2 2021-09-15 10:30:18  0.612724  0.108221\n",
       "136  machine_2 2021-09-15 10:30:18  0.651099  0.125411\n",
       "137  machine_1 2021-09-15 10:30:18  0.644774  0.098508\n",
       "138  machine_2 2021-09-15 21:37:42  0.992717  0.973737\n",
       "139  machine_1 2021-09-15 10:30:18  0.645383  0.085237\n",
       "\n",
       "[138 rows x 4 columns]"
      ]
     },
     "execution_count": 24,
     "metadata": {},
     "output_type": "execute_result"
    }
   ],
   "source": [
    "X"
   ]
  },
  {
   "cell_type": "markdown",
   "id": "d981fde6",
   "metadata": {},
   "source": [
    "**NOTE:** There was a row that contained a negative value for volume. I didn't notice the first time."
   ]
  },
  {
   "cell_type": "code",
   "execution_count": 32,
   "id": "e8e92766",
   "metadata": {},
   "outputs": [],
   "source": [
    "from sklearn.cluster import KMeans\n",
    "\n",
    "X_train = X[X.timestamp.dt.day == 15].copy()\n",
    "Y = X[X.timestamp.dt.day == 16 ].copy()"
   ]
  },
  {
   "cell_type": "markdown",
   "id": "ab762497",
   "metadata": {},
   "source": [
    "We will peform a KMeans cluster search with training set `X_train` and use the result to study `Y`"
   ]
  },
  {
   "cell_type": "code",
   "execution_count": 28,
   "id": "535242b1",
   "metadata": {},
   "outputs": [
    {
     "data": {
      "text/plain": [
       "<matplotlib.collections.PathCollection at 0x7f00196df320>"
      ]
     },
     "execution_count": 28,
     "metadata": {},
     "output_type": "execute_result"
    },
    {
     "data": {
      "image/png": "[encoded data removed]",
      "text/plain": [
       "<Figure size 720x720 with 1 Axes>"
      ]
     },
     "metadata": {},
     "output_type": "display_data"
    }
   ],
   "source": [
    "plt.rcParams['figure.figsize'] = (10,10)\n",
    "\n",
    "X_1 = X_train[ X_train.machine_id == 'machine_1' ]\n",
    "X_2 = X_train[ X_train.machine_id == 'machine_2' ]\n",
    "\n",
    "plt.scatter(X_1.volume, X_1.weight, c='blue', s=5)\n",
    "plt.scatter(X_2.volume, X_2.weight, c='red', s=5)"
   ]
  },
  {
   "cell_type": "markdown",
   "id": "9c9c3cae",
   "metadata": {},
   "source": [
    "We can see from the plot that all outliers come from *machine_1* and there are two main clusters.\n",
    "However we will apply the Elbow method to find the optimal number of clusters (and we know that the two big clusters are the _\"good ones\"_ )"
   ]
  },
  {
   "cell_type": "code",
   "execution_count": 29,
   "id": "f7eba346",
   "metadata": {},
   "outputs": [
    {
     "data": {
      "text/plain": [
       "Text(0.5, 1.0, 'Elbow Method To Find k')"
      ]
     },
     "execution_count": 29,
     "metadata": {},
     "output_type": "execute_result"
    },
    {
     "data": {
      "image/png": "[encoded data removed]",
      "text/plain": [
       "<Figure size 720x720 with 1 Axes>"
      ]
     },
     "metadata": {},
     "output_type": "display_data"
    }
   ],
   "source": [
    "sse = []\n",
    "\n",
    "for k in range(2,11):\n",
    "    classifier = KMeans(n_clusters=k)\n",
    "    classifier.fit(X_train[['volume','weight']])\n",
    "    sse.append(classifier.inertia_)\n",
    "    \n",
    "plt.plot(range(2,11), sse, marker='o', c='blue')\n",
    "plt.xlabel('k')\n",
    "plt.ylabel('sse')\n",
    "plt.title('Elbow Method To Find k')"
   ]
  },
  {
   "cell_type": "markdown",
   "id": "0d80ff8d",
   "metadata": {},
   "source": [
    "* We select k=4, as our number of clusters\n",
    "\n",
    "* Another approach could be to use the values of machine_2 for the fitting/training step, but we chose the method that gives us more input data"
   ]
  },
  {
   "cell_type": "code",
   "execution_count": 38,
   "id": "7374dc1a",
   "metadata": {},
   "outputs": [],
   "source": [
    "classifier = KMeans(n_clusters=4)\n",
    "classifier.fit(X_train[['volume','weight']])\n",
    "\n",
    "labels = classifier.labels_\n",
    "centers = classifier.cluster_centers_"
   ]
  },
  {
   "cell_type": "markdown",
   "id": "d4f68064",
   "metadata": {},
   "source": [
    "Before analysing the values of Sep 16. We see what the previous model tells us about `X_train`"
   ]
  },
  {
   "cell_type": "code",
   "execution_count": 39,
   "id": "c1171e5b",
   "metadata": {},
   "outputs": [],
   "source": [
    "X_train['clusters'] = labels"
   ]
  },
  {
   "cell_type": "code",
   "execution_count": 41,
   "id": "355ff527",
   "metadata": {},
   "outputs": [
    {
     "data": {
      "text/plain": [
       "<matplotlib.collections.PathCollection at 0x7f001934ac18>"
      ]
     },
     "execution_count": 41,
     "metadata": {},
     "output_type": "execute_result"
    },
    {
     "data": {
      "image/png": "[encoded data removed]",
      "text/plain": [
       "<Figure size 720x720 with 1 Axes>"
      ]
     },
     "metadata": {},
     "output_type": "display_data"
    }
   ],
   "source": [
    "plt.scatter(X_train.volume, X_train.weight, c=X_train.clusters, s=5, cmap='brg')\n",
    "plt.scatter(centers[:,0], centers[:,1], c='gray', s=500, alpha=0.5)"
   ]
  },
  {
   "cell_type": "code",
   "execution_count": 46,
   "id": "a0bece48",
   "metadata": {},
   "outputs": [],
   "source": [
    "results = []\n",
    "for cluster in range(4):\n",
    "    aux = X_train[X_train.clusters == cluster]\n",
    "    error = classifier.score(aux[['volume', 'weight']])\n",
    "    n = len(aux)\n",
    "    results.append([error, n, error/n])\n",
    "\n",
    "results_df = pd.DataFrame(results, columns=['error', 'n', 'weighter-err'])"
   ]
  },
  {
   "cell_type": "code",
   "execution_count": 47,
   "id": "646d87d8",
   "metadata": {},
   "outputs": [
    {
     "data": {
      "text/html": [
       "<div>\n",
       "<style scoped>\n",
       "    .dataframe tbody tr th:only-of-type {\n",
       "        vertical-align: middle;\n",
       "    }\n",
       "\n",
       "    .dataframe tbody tr th {\n",
       "        vertical-align: top;\n",
       "    }\n",
       "\n",
       "    .dataframe thead th {\n",
       "        text-align: right;\n",
       "    }\n",
       "</style>\n",
       "<table border=\"1\" class=\"dataframe\">\n",
       "  <thead>\n",
       "    <tr style=\"text-align: right;\">\n",
       "      <th></th>\n",
       "      <th>error</th>\n",
       "      <th>n</th>\n",
       "      <th>weighter-err</th>\n",
       "    </tr>\n",
       "  </thead>\n",
       "  <tbody>\n",
       "    <tr>\n",
       "      <th>0</th>\n",
       "      <td>-0.019014</td>\n",
       "      <td>52</td>\n",
       "      <td>-0.000366</td>\n",
       "    </tr>\n",
       "    <tr>\n",
       "      <th>1</th>\n",
       "      <td>-0.027555</td>\n",
       "      <td>45</td>\n",
       "      <td>-0.000612</td>\n",
       "    </tr>\n",
       "    <tr>\n",
       "      <th>2</th>\n",
       "      <td>-0.047130</td>\n",
       "      <td>2</td>\n",
       "      <td>-0.023565</td>\n",
       "    </tr>\n",
       "    <tr>\n",
       "      <th>3</th>\n",
       "      <td>-0.042760</td>\n",
       "      <td>2</td>\n",
       "      <td>-0.021380</td>\n",
       "    </tr>\n",
       "  </tbody>\n",
       "</table>\n",
       "</div>"
      ],
      "text/plain": [
       "      error   n  weighter-err\n",
       "0 -0.019014  52     -0.000366\n",
       "1 -0.027555  45     -0.000612\n",
       "2 -0.047130   2     -0.023565\n",
       "3 -0.042760   2     -0.021380"
      ]
     },
     "execution_count": 47,
     "metadata": {},
     "output_type": "execute_result"
    }
   ],
   "source": [
    "results_df"
   ]
  },
  {
   "cell_type": "markdown",
   "id": "cbde2f35",
   "metadata": {},
   "source": [
    "* We see that clusters 2 and 3 are outliers.\n",
    "* We study now `Y` and find elements in clusters 2 and 3"
   ]
  },
  {
   "cell_type": "code",
   "execution_count": 49,
   "id": "06e0d05c",
   "metadata": {},
   "outputs": [
    {
     "data": {
      "text/plain": [
       "-0.4126858992464927"
      ]
     },
     "execution_count": 49,
     "metadata": {},
     "output_type": "execute_result"
    }
   ],
   "source": [
    "y_lables = classifier.predict(Y[['volume', 'weight']])\n",
    "Y['clusters'] = y_lables\n",
    "classifier.score(Y[['volume', 'weight']])"
   ]
  },
  {
   "cell_type": "code",
   "execution_count": 50,
   "id": "027b7561",
   "metadata": {},
   "outputs": [
    {
     "data": {
      "text/html": [
       "<div>\n",
       "<style scoped>\n",
       "    .dataframe tbody tr th:only-of-type {\n",
       "        vertical-align: middle;\n",
       "    }\n",
       "\n",
       "    .dataframe tbody tr th {\n",
       "        vertical-align: top;\n",
       "    }\n",
       "\n",
       "    .dataframe thead th {\n",
       "        text-align: right;\n",
       "    }\n",
       "</style>\n",
       "<table border=\"1\" class=\"dataframe\">\n",
       "  <thead>\n",
       "    <tr style=\"text-align: right;\">\n",
       "      <th></th>\n",
       "      <th>machine_id</th>\n",
       "      <th>timestamp</th>\n",
       "      <th>volume</th>\n",
       "      <th>weight</th>\n",
       "      <th>clusters</th>\n",
       "    </tr>\n",
       "  </thead>\n",
       "  <tbody>\n",
       "    <tr>\n",
       "      <th>0</th>\n",
       "      <td>machine_2</td>\n",
       "      <td>2021-09-16 00:18:58</td>\n",
       "      <td>0.196926</td>\n",
       "      <td>0.086043</td>\n",
       "      <td>2</td>\n",
       "    </tr>\n",
       "    <tr>\n",
       "      <th>2</th>\n",
       "      <td>machine_2</td>\n",
       "      <td>2021-09-16 00:18:58</td>\n",
       "      <td>0.204643</td>\n",
       "      <td>0.076929</td>\n",
       "      <td>2</td>\n",
       "    </tr>\n",
       "    <tr>\n",
       "      <th>5</th>\n",
       "      <td>machine_1</td>\n",
       "      <td>2021-09-16 00:18:58</td>\n",
       "      <td>0.200801</td>\n",
       "      <td>0.075857</td>\n",
       "      <td>2</td>\n",
       "    </tr>\n",
       "    <tr>\n",
       "      <th>9</th>\n",
       "      <td>machine_2</td>\n",
       "      <td>2021-09-16 00:18:58</td>\n",
       "      <td>0.195342</td>\n",
       "      <td>0.105045</td>\n",
       "      <td>2</td>\n",
       "    </tr>\n",
       "    <tr>\n",
       "      <th>11</th>\n",
       "      <td>machine_2</td>\n",
       "      <td>2021-09-16 00:18:58</td>\n",
       "      <td>0.187809</td>\n",
       "      <td>0.064483</td>\n",
       "      <td>2</td>\n",
       "    </tr>\n",
       "    <tr>\n",
       "      <th>13</th>\n",
       "      <td>machine_2</td>\n",
       "      <td>2021-09-16 00:18:58</td>\n",
       "      <td>0.227803</td>\n",
       "      <td>0.088015</td>\n",
       "      <td>2</td>\n",
       "    </tr>\n",
       "    <tr>\n",
       "      <th>15</th>\n",
       "      <td>machine_1</td>\n",
       "      <td>2021-09-16 00:18:58</td>\n",
       "      <td>0.186773</td>\n",
       "      <td>0.090861</td>\n",
       "      <td>2</td>\n",
       "    </tr>\n",
       "    <tr>\n",
       "      <th>16</th>\n",
       "      <td>machine_2</td>\n",
       "      <td>2021-09-16 00:18:58</td>\n",
       "      <td>0.186750</td>\n",
       "      <td>0.096637</td>\n",
       "      <td>2</td>\n",
       "    </tr>\n",
       "    <tr>\n",
       "      <th>20</th>\n",
       "      <td>machine_1</td>\n",
       "      <td>2021-09-16 00:18:58</td>\n",
       "      <td>0.190160</td>\n",
       "      <td>0.086924</td>\n",
       "      <td>2</td>\n",
       "    </tr>\n",
       "    <tr>\n",
       "      <th>24</th>\n",
       "      <td>machine_2</td>\n",
       "      <td>2021-09-16 00:18:58</td>\n",
       "      <td>0.189816</td>\n",
       "      <td>0.075228</td>\n",
       "      <td>2</td>\n",
       "    </tr>\n",
       "  </tbody>\n",
       "</table>\n",
       "</div>"
      ],
      "text/plain": [
       "   machine_id           timestamp    volume    weight  clusters\n",
       "0   machine_2 2021-09-16 00:18:58  0.196926  0.086043         2\n",
       "2   machine_2 2021-09-16 00:18:58  0.204643  0.076929         2\n",
       "5   machine_1 2021-09-16 00:18:58  0.200801  0.075857         2\n",
       "9   machine_2 2021-09-16 00:18:58  0.195342  0.105045         2\n",
       "11  machine_2 2021-09-16 00:18:58  0.187809  0.064483         2\n",
       "13  machine_2 2021-09-16 00:18:58  0.227803  0.088015         2\n",
       "15  machine_1 2021-09-16 00:18:58  0.186773  0.090861         2\n",
       "16  machine_2 2021-09-16 00:18:58  0.186750  0.096637         2\n",
       "20  machine_1 2021-09-16 00:18:58  0.190160  0.086924         2\n",
       "24  machine_2 2021-09-16 00:18:58  0.189816  0.075228         2"
      ]
     },
     "execution_count": 50,
     "metadata": {},
     "output_type": "execute_result"
    }
   ],
   "source": [
    "Y.head(10)"
   ]
  },
  {
   "cell_type": "code",
   "execution_count": 51,
   "id": "4487f4b6",
   "metadata": {},
   "outputs": [
    {
     "data": {
      "text/plain": [
       "array([2], dtype=int32)"
      ]
     },
     "execution_count": 51,
     "metadata": {},
     "output_type": "execute_result"
    }
   ],
   "source": [
    "Y.clusters.unique()"
   ]
  },
  {
   "cell_type": "code",
   "execution_count": 54,
   "id": "35e38f59",
   "metadata": {},
   "outputs": [
    {
     "data": {
      "text/plain": [
       "Text(0.5, 1.0, 'Final Conclusion')"
      ]
     },
     "execution_count": 54,
     "metadata": {},
     "output_type": "execute_result"
    },
    {
     "data": {
      "image/png": "[encoded data removed]",
      "text/plain": [
       "<Figure size 720x720 with 1 Axes>"
      ]
     },
     "metadata": {},
     "output_type": "display_data"
    }
   ],
   "source": [
    "plt.scatter(X_train.volume, X_train.weight, c=X_train.clusters, s=5, cmap='brg')\n",
    "plt.scatter(centers[:,0], centers[:,1], c='gray', s=500, alpha=0.5)\n",
    "plt.scatter(Y.volume, Y.weight, c ='black', s=5)\n",
    "plt.xlabel('volume')\n",
    "plt.ylabel('weight')\n",
    "plt.title('Final Conclusion')"
   ]
  },
  {
   "cell_type": "markdown",
   "id": "40a7437f",
   "metadata": {},
   "source": [
    "Before we reach a conclusion we want to see the performance of the different machines on Sep 16, since all previous mistakes were done by machine_1"
   ]
  },
  {
   "cell_type": "code",
   "execution_count": 55,
   "id": "67a598ea",
   "metadata": {},
   "outputs": [
    {
     "data": {
      "text/plain": [
       "Text(0.5, 1.0, 'Machine Analysis')"
      ]
     },
     "execution_count": 55,
     "metadata": {},
     "output_type": "execute_result"
    },
    {
     "data": {
      "image/png": "[encoded data removed]",
      "text/plain": [
       "<Figure size 720x720 with 1 Axes>"
      ]
     },
     "metadata": {},
     "output_type": "display_data"
    }
   ],
   "source": [
    "plt.scatter(X_train.volume, X_train.weight, c='gray', s=5)\n",
    "plt.scatter(centers[:,0], centers[:,1], c='gray', s=500, alpha=0.5)\n",
    "\n",
    "Y_1 = Y[Y.machine_id == 'machine_1']\n",
    "plt.scatter(Y_1.volume, Y_1.weight, c ='red', s=5)\n",
    "Y_2 = Y[Y.machine_id == 'machine_2']\n",
    "plt.scatter(Y_2.volume, Y_2.weight, c ='blue', s=5)\n",
    "plt.xlabel('volume')\n",
    "plt.ylabel('weight')\n",
    "plt.title('Machine Analysis')"
   ]
  },
  {
   "cell_type": "markdown",
   "id": "72dc8fd8",
   "metadata": {},
   "source": [
    "### Conclusion\n",
    "\n",
    "Based on the Cluster Analysis we can identify two main operations on the clusters 0 and 1\n",
    "(elements at cluster 0 are smaller and much lighter, maybe they are marshmallows, and elements at cluster 1 are both heavier and bigger).\n",
    "\n",
    "The outliers are in clusters 2 and 3. Maybe this is due to marshmallows treated as chocolate bars (cluster 2),\n",
    "and chocolate bars treated as marshmallows (cluster 3).\n",
    "\n",
    "In September 16, all elements are in cluster 2, indicating that someone made a mistake.\n",
    "We can speculate that September 16 was going to be dedicated to producing only chocolate bars and someone thought they were going to produce only marshmallows.\n",
    "In any case all output from September 16 is compromised in some manner.\n",
    "\n",
    "We also noticed that all mistakes in September 15 were due to *machine_1*, either because is malfunctioning or because the people operating\n",
    "this machine have less experience.\n",
    "However this have nothing to do with the issue on September 16 since both machines are in cluster 2, and the outliers are not significant\n",
    "(~5.8% of the output of Sepmber 15).\n",
    "\n",
    "The model we produced allow us to improve quality in two ways:\n",
    "* Track all elements and if they are not in cluster 0 or 1 they can be classified as low quality.\n",
    "* Track batches, and if the weighted score is >0.001 classify the batch as low quality."
   ]
  }
 ],
 "metadata": {
  "kernelspec": {
   "display_name": "Python 3",
   "language": "python",
   "name": "python3"
  },
  "language_info": {
   "codemirror_mode": {
    "name": "ipython",
    "version": 3
   },
   "file_extension": ".py",
   "mimetype": "text/x-python",
   "name": "python",
   "nbconvert_exporter": "python",
   "pygments_lexer": "ipython3",
   "version": "3.6.9"
  }
 },
 "nbformat": 4,
 "nbformat_minor": 5
}
